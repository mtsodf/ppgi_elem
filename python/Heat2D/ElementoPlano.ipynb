{
 "cells": [
  {
   "cell_type": "code",
   "execution_count": 1,
   "metadata": {
    "collapsed": true
   },
   "outputs": [],
   "source": [
    "from sympy import *\n",
    "import math"
   ]
  },
  {
   "cell_type": "code",
   "execution_count": 2,
   "metadata": {},
   "outputs": [
    {
     "data": {
      "text/plain": [
       "4.732050807568877"
      ]
     },
     "execution_count": 2,
     "metadata": {},
     "output_type": "execute_result"
    }
   ],
   "source": [
    "3 + math.sqrt(3)"
   ]
  },
  {
   "cell_type": "code",
   "execution_count": 3,
   "metadata": {},
   "outputs": [
    {
     "data": {
      "text/plain": [
       "sqrt(3) + 3"
      ]
     },
     "execution_count": 3,
     "metadata": {},
     "output_type": "execute_result"
    }
   ],
   "source": [
    "expr = 3 + sqrt(3)\n",
    "expr"
   ]
  },
  {
   "cell_type": "code",
   "execution_count": 4,
   "metadata": {
    "collapsed": true
   },
   "outputs": [],
   "source": [
    "init_printing(use_latex=\"mathjax\")"
   ]
  },
  {
   "cell_type": "code",
   "execution_count": 5,
   "metadata": {},
   "outputs": [
    {
     "data": {
      "text/latex": [
       "$$\\sqrt{3} + 3$$"
      ],
      "text/plain": [
       "√3 + 3"
      ]
     },
     "execution_count": 5,
     "metadata": {},
     "output_type": "execute_result"
    }
   ],
   "source": [
    "expr"
   ]
  },
  {
   "cell_type": "markdown",
   "metadata": {},
   "source": [
    "## Symbols"
   ]
  },
  {
   "cell_type": "code",
   "execution_count": 32,
   "metadata": {},
   "outputs": [],
   "source": [
    "x, y = symbols(\"x y\")"
   ]
  },
  {
   "cell_type": "code",
   "execution_count": 33,
   "metadata": {
    "collapsed": true
   },
   "outputs": [],
   "source": [
    "dx, dy= symbols(\"dx dy\")"
   ]
  },
  {
   "cell_type": "markdown",
   "metadata": {},
   "source": [
    "## Funções de Forma"
   ]
  },
  {
   "cell_type": "code",
   "execution_count": 36,
   "metadata": {},
   "outputs": [],
   "source": [
    "N1 = (1-x/dx)*(1-y/dy)\n",
    "N2 = (1-x/dx)*(0+y/dy)\n",
    "N3 = (0+x/dx)*(0+y/dy)\n",
    "N4 = (0+x/dx)*(1-y/dy)"
   ]
  },
  {
   "cell_type": "code",
   "execution_count": 37,
   "metadata": {},
   "outputs": [
    {
     "data": {
      "text/latex": [
       "$$\\left(1 - \\frac{x}{dx}\\right) \\left(1 - \\frac{y}{dy}\\right)$$"
      ],
      "text/plain": [
       "⎛    x ⎞ ⎛    y ⎞\n",
       "⎜1 - ──⎟⋅⎜1 - ──⎟\n",
       "⎝    dx⎠ ⎝    dy⎠"
      ]
     },
     "execution_count": 37,
     "metadata": {},
     "output_type": "execute_result"
    }
   ],
   "source": [
    "N1"
   ]
  },
  {
   "cell_type": "markdown",
   "metadata": {},
   "source": [
    "## Matriz de Elasticidade"
   ]
  },
  {
   "cell_type": "code",
   "execution_count": 39,
   "metadata": {},
   "outputs": [],
   "source": [
    "E, v = symbols(\"E v\")\n",
    "Dinv = (1/E)*Matrix([[1,-v,0], [-v,1,0], [0, 0,2*(1+v)]])\n",
    "D = simplify(Dinv**-1)"
   ]
  },
  {
   "cell_type": "code",
   "execution_count": 40,
   "metadata": {},
   "outputs": [
    {
     "data": {
      "text/latex": [
       "$$\\left[\\begin{matrix}- \\frac{E}{v^{2} - 1} & - \\frac{E v}{v^{2} - 1} & 0\\\\- \\frac{E v}{v^{2} - 1} & - \\frac{E}{v^{2} - 1} & 0\\\\0 & 0 & \\frac{E}{2 v + 2}\\end{matrix}\\right]$$"
      ],
      "text/plain": [
       "⎡ -E     -E⋅v             ⎤\n",
       "⎢──────  ──────      0    ⎥\n",
       "⎢ 2       2               ⎥\n",
       "⎢v  - 1  v  - 1           ⎥\n",
       "⎢                         ⎥\n",
       "⎢-E⋅v     -E              ⎥\n",
       "⎢──────  ──────      0    ⎥\n",
       "⎢ 2       2               ⎥\n",
       "⎢v  - 1  v  - 1           ⎥\n",
       "⎢                         ⎥\n",
       "⎢                    E    ⎥\n",
       "⎢  0       0     ─────────⎥\n",
       "⎣                2⋅(v + 1)⎦"
      ]
     },
     "execution_count": 40,
     "metadata": {},
     "output_type": "execute_result"
    }
   ],
   "source": [
    "D"
   ]
  },
  {
   "cell_type": "code",
   "execution_count": 41,
   "metadata": {},
   "outputs": [
    {
     "data": {
      "text/latex": [
       "$$\\left ( 3, \\quad 2\\right )$$"
      ],
      "text/plain": [
       "(3, 2)"
      ]
     },
     "execution_count": 41,
     "metadata": {},
     "output_type": "execute_result"
    }
   ],
   "source": [
    "A = Matrix([[1,2],[3,4],[5,6]])\n",
    "A.shape\n"
   ]
  },
  {
   "cell_type": "code",
   "execution_count": 42,
   "metadata": {
    "collapsed": true
   },
   "outputs": [],
   "source": [
    "def applyS(N):\n",
    "\n",
    "    ddx = diff(N, x)\n",
    "    ddy = diff(N, y)\n",
    "    ddz = diff(N, z)\n",
    "    \n",
    "    return Matrix([[ddx, 0], [0, ddy],  [ddy, ddx]])"
   ]
  },
  {
   "cell_type": "code",
   "execution_count": 43,
   "metadata": {},
   "outputs": [
    {
     "data": {
      "text/latex": [
       "$$\\left[\\begin{matrix}\\int_{0}^{dy}\\int_{0}^{dx} - \\frac{E \\left(1 - \\frac{x}{dx}\\right)^{2}}{2 dy^{2} \\left(v + 1\\right)} - \\frac{E y \\left(1 - \\frac{y}{dy}\\right)}{dx^{2} dy \\left(v^{2} - 1\\right)}\\, dx\\, dy & \\int_{0}^{dy}\\int_{0}^{dx} \\frac{E v \\left(1 - \\frac{x}{dx}\\right) \\left(1 - \\frac{y}{dy}\\right)}{dx dy \\left(v^{2} - 1\\right)} + \\frac{E y \\left(1 - \\frac{x}{dx}\\right)}{2 dx dy^{2} \\left(v + 1\\right)}\\, dx\\, dy\\\\\\int_{0}^{dy}\\int_{0}^{dx} - \\frac{E \\left(1 - \\frac{x}{dx}\\right) \\left(1 - \\frac{y}{dy}\\right)}{2 dx dy \\left(v + 1\\right)} - \\frac{E v y \\left(1 - \\frac{x}{dx}\\right)}{dx dy^{2} \\left(v^{2} - 1\\right)}\\, dx\\, dy & \\int_{0}^{dy}\\int_{0}^{dx} \\frac{E \\left(1 - \\frac{x}{dx}\\right)^{2}}{dy^{2} \\left(v^{2} - 1\\right)} + \\frac{E y \\left(1 - \\frac{y}{dy}\\right)}{2 dx^{2} dy \\left(v + 1\\right)}\\, dx\\, dy\\end{matrix}\\right]$$"
      ],
      "text/plain": [
       "⎡   dy dx                                                                     \n",
       "⎢   ⌠  ⌠                                                dy dx                 \n",
       "⎢   ⎮  ⎮  ⎛             2                   ⎞           ⌠  ⌠                  \n",
       "⎢   ⎮  ⎮  ⎜     ⎛    x ⎞           ⎛    y ⎞ ⎟           ⎮  ⎮  ⎛    ⎛    x ⎞ ⎛ \n",
       "⎢   ⎮  ⎮  ⎜   E⋅⎜1 - ──⎟       E⋅y⋅⎜1 - ──⎟ ⎟           ⎮  ⎮  ⎜E⋅v⋅⎜1 - ──⎟⋅⎜1\n",
       "⎢   ⎮  ⎮  ⎜     ⎝    dx⎠           ⎝    dy⎠ ⎟           ⎮  ⎮  ⎜    ⎝    dx⎠ ⎝ \n",
       "⎢   ⎮  ⎮  ⎜- ───────────── - ───────────────⎟ dx dy     ⎮  ⎮  ⎜───────────────\n",
       "⎢   ⎮  ⎮  ⎜      2             2    ⎛ 2    ⎞⎟           ⎮  ⎮  ⎜          ⎛ 2  \n",
       "⎢   ⎮  ⎮  ⎝  2⋅dy ⋅(v + 1)   dx ⋅dy⋅⎝v  - 1⎠⎠           ⎮  ⎮  ⎝    dx⋅dy⋅⎝v  -\n",
       "⎢   ⌡  ⌡                                                ⌡  ⌡                  \n",
       "⎢   0  0                                                0  0                  \n",
       "⎢                                                                             \n",
       "⎢                                                           dy dx             \n",
       "⎢dy dx                                                      ⌠  ⌠              \n",
       "⎢⌠  ⌠                                                       ⎮  ⎮  ⎛          2\n",
       "⎢⎮  ⎮  ⎛    ⎛    x ⎞ ⎛    y ⎞          ⎛    x ⎞⎞            ⎮  ⎮  ⎜  ⎛    x ⎞ \n",
       "⎢⎮  ⎮  ⎜  E⋅⎜1 - ──⎟⋅⎜1 - ──⎟    E⋅v⋅y⋅⎜1 - ──⎟⎟            ⎮  ⎮  ⎜E⋅⎜1 - ──⎟ \n",
       "⎢⎮  ⎮  ⎜    ⎝    dx⎠ ⎝    dy⎠          ⎝    dx⎠⎟            ⎮  ⎮  ⎜  ⎝    dx⎠ \n",
       "⎢⎮  ⎮  ⎜- ─────────────────── - ───────────────⎟ dx dy      ⎮  ⎮  ⎜───────────\n",
       "⎢⎮  ⎮  ⎜    2⋅dx⋅dy⋅(v + 1)          2 ⎛ 2    ⎞⎟            ⎮  ⎮  ⎜  2 ⎛ 2    \n",
       "⎢⎮  ⎮  ⎝                        dx⋅dy ⋅⎝v  - 1⎠⎠            ⎮  ⎮  ⎝dy ⋅⎝v  - 1\n",
       "⎢⌡  ⌡                                                       ⌡  ⌡              \n",
       "⎣0  0                                                       0  0              \n",
       "\n",
       "                                ⎤\n",
       "                                ⎥\n",
       "                                ⎥\n",
       "   y ⎞         ⎛    x ⎞  ⎞      ⎥\n",
       " - ──⎟     E⋅y⋅⎜1 - ──⎟  ⎟      ⎥\n",
       "   dy⎠         ⎝    dx⎠  ⎟      ⎥\n",
       "────── + ────────────────⎟ dx dy⎥\n",
       "  ⎞             2        ⎟      ⎥\n",
       " 1⎠      2⋅dx⋅dy ⋅(v + 1)⎠      ⎥\n",
       "                                ⎥\n",
       "                                ⎥\n",
       "                                ⎥\n",
       "                                ⎥\n",
       "                                ⎥\n",
       "                    ⎞           ⎥\n",
       "          ⎛    y ⎞  ⎟           ⎥\n",
       "      E⋅y⋅⎜1 - ──⎟  ⎟           ⎥\n",
       "          ⎝    dy⎠  ⎟           ⎥\n",
       "─ + ────────────────⎟ dx dy     ⎥\n",
       "⎞       2           ⎟           ⎥\n",
       "⎠   2⋅dx ⋅dy⋅(v + 1)⎠           ⎥\n",
       "                                ⎥\n",
       "                                ⎦"
      ]
     },
     "execution_count": 43,
     "metadata": {},
     "output_type": "execute_result"
    }
   ],
   "source": [
    "Stiff = applyS(N1).T*D*applyS(N2)\n",
    "Aux = zeros(2,2)\n",
    "for i in range(Stiff.shape[0]*Stiff.shape[1]):\n",
    "    Aux[i] = Integral(Stiff[i],(x, 0, dx))\n",
    "    Aux[i] = Integral(Aux[i],(y, 0, dy))\n",
    "Stiff = Aux\n",
    "Stiff"
   ]
  },
  {
   "cell_type": "raw",
   "metadata": {},
   "source": [
    "Stiff = applyS(N1).T*D*applyS(N2)\n",
    "Stiff = Integral(Stiff,(x, 0, dx))\n",
    "Stiff = Integral(Stiff,(y, 0, dy))\n",
    "Stiff = Integral(Stiff,(z, 0, dz))\n",
    "Stiff"
   ]
  },
  {
   "cell_type": "code",
   "execution_count": 44,
   "metadata": {
    "collapsed": true
   },
   "outputs": [],
   "source": [
    "E_value = 1\n",
    "v_value = 0.25\n",
    "dx_value = 10000\n",
    "dy_value = 10000\n",
    "dz_value = 10000"
   ]
  },
  {
   "cell_type": "code",
   "execution_count": 15,
   "metadata": {
    "collapsed": true
   },
   "outputs": [],
   "source": [
    "def CalcConnectionAnalitic(N1, N2):\n",
    "    Stiff = applyS(N1).T*D*applyS(N2)\n",
    "    \n",
    "    Aux = zeros(Stiff.shape[0], Stiff.shape[1])\n",
    "    \n",
    "    for i in range(Stiff.shape[0]*Stiff.shape[1]):\n",
    "        Aux[i] = Integral(Stiff[i],(x, 0, dx))\n",
    "        Aux[i] = Integral(Aux[i],(y, 0, dy))\n",
    "        Aux[i] = Integral(Aux[i],(z, 0, dz))\n",
    "        Aux[i] = simplify(Aux[i])\n",
    "\n",
    "    Stiff = Aux\n",
    "   \n",
    "    return Stiff     "
   ]
  },
  {
   "cell_type": "code",
   "execution_count": 16,
   "metadata": {
    "collapsed": true
   },
   "outputs": [],
   "source": [
    "def CalcConnection(N1, N2):\n",
    "    Stiff = applyS(N1).T*D*applyS(N2)\n",
    "    \n",
    "    Aux = zeros(Stiff.shape[0], Stiff.shape[1])\n",
    "    \n",
    "    for i in range(Stiff.shape[0]*Stiff.shape[1]):\n",
    "        Aux[i] = Integral(Stiff[i],(x, 0, dx))\n",
    "        Aux[i] = Integral(Aux[i],(y, 0, dy))\n",
    "        Aux[i] = Integral(Aux[i],(z, 0, dz))\n",
    "    \n",
    "    Stiff = Aux\n",
    "   \n",
    "    for i in range(Stiff.shape[0]*Stiff.shape[1]):\n",
    "        Aux[i]=Stiff[i].doit().subs(E, E_value).subs(v, v_value).subs(dx, dx_value).subs(dy, dy_value).subs(dz, dz_value)\n",
    "\n",
    "    Stiff = Aux\n",
    "    return Stiff  "
   ]
  },
  {
   "cell_type": "code",
   "execution_count": 17,
   "metadata": {
    "collapsed": true
   },
   "outputs": [],
   "source": [
    "def CalcConnection(N1, N2):\n",
    "    Stiff = CalcConnectionAnalitic(N1, N2)\n",
    "    \n",
    "    Aux = zeros(Stiff.shape[0], Stiff.shape[1])\n",
    "      \n",
    "    for i in range(Stiff.shape[0]*Stiff.shape[1]):\n",
    "        Aux[i]=Stiff[i].doit().subs(E, E_value).subs(v, v_value).subs(dx, dx_value).subs(dy, dy_value).subs(dz, dz_value)\n",
    "\n",
    "    Stiff = Aux\n",
    "    return Stiff  "
   ]
  },
  {
   "cell_type": "code",
   "execution_count": 18,
   "metadata": {
    "collapsed": true
   },
   "outputs": [],
   "source": [
    "proprio = CalcConnection(N1, N1)\n",
    "for func in [N2, N3, N4, N5, N6, N7, N8]:\n",
    "    proprio += CalcConnection(func, func)"
   ]
  },
  {
   "cell_type": "code",
   "execution_count": 19,
   "metadata": {
    "collapsed": true
   },
   "outputs": [],
   "source": [
    "acima = CalcConnection(N1, N2) + CalcConnection(N4, N3) + CalcConnection(N5, N6) + CalcConnection(N8, N7)"
   ]
  },
  {
   "cell_type": "code",
   "execution_count": 20,
   "metadata": {
    "collapsed": true
   },
   "outputs": [],
   "source": [
    "sul = CalcConnection(N5, N1) + CalcConnection(N6, N2) + CalcConnection(N7, N3) + CalcConnection(N8, N4)"
   ]
  },
  {
   "cell_type": "code",
   "execution_count": 21,
   "metadata": {},
   "outputs": [
    {
     "data": {
      "text/latex": [
       "$$\\left[\\begin{matrix}41700960219.4788 & 0 & 0\\\\0 & 41700960219.4788 & 0\\\\0 & 0 & 41700960219.4787\\end{matrix}\\right]$$"
      ],
      "text/plain": [
       "⎡41700960219.4788         0                 0        ⎤\n",
       "⎢                                                    ⎥\n",
       "⎢       0          41700960219.4788         0        ⎥\n",
       "⎢                                                    ⎥\n",
       "⎣       0                 0          41700960219.4787⎦"
      ]
     },
     "execution_count": 21,
     "metadata": {},
     "output_type": "execute_result"
    }
   ],
   "source": [
    "proprio"
   ]
  },
  {
   "cell_type": "code",
   "execution_count": 22,
   "metadata": {},
   "outputs": [
    {
     "data": {
      "text/latex": [
       "$$\\left[\\begin{matrix}5486968449.93141 & 0 & 0\\\\0 & 5486968449.93141 & 0\\\\0 & 0 & -10973936899.8628\\end{matrix}\\right]$$"
      ],
      "text/plain": [
       "⎡5486968449.93141         0                  0        ⎤\n",
       "⎢                                                     ⎥\n",
       "⎢       0          5486968449.93141          0        ⎥\n",
       "⎢                                                     ⎥\n",
       "⎣       0                 0          -10973936899.8628⎦"
      ]
     },
     "execution_count": 22,
     "metadata": {},
     "output_type": "execute_result"
    }
   ],
   "source": [
    "acima"
   ]
  },
  {
   "cell_type": "code",
   "execution_count": 23,
   "metadata": {},
   "outputs": [
    {
     "data": {
      "text/latex": [
       "$$\\left[\\begin{matrix}5486968449.93142 & 0 & 0\\\\0 & -10973936899.8628 & 0\\\\0 & 0 & 5486968449.93141\\end{matrix}\\right]$$"
      ],
      "text/plain": [
       "⎡5486968449.93142          0                 0        ⎤\n",
       "⎢                                                     ⎥\n",
       "⎢       0          -10973936899.8628         0        ⎥\n",
       "⎢                                                     ⎥\n",
       "⎣       0                  0          5486968449.93141⎦"
      ]
     },
     "execution_count": 23,
     "metadata": {},
     "output_type": "execute_result"
    }
   ],
   "source": [
    "sul"
   ]
  },
  {
   "cell_type": "code",
   "execution_count": 24,
   "metadata": {
    "collapsed": true
   },
   "outputs": [],
   "source": [
    "acimaAnalitica = CalcConnectionAnalitic(N1, N2) + CalcConnectionAnalitic(N4, N3) + CalcConnectionAnalitic(N5, N6) + CalcConnectionAnalitic(N8, N7)"
   ]
  },
  {
   "cell_type": "code",
   "execution_count": 25,
   "metadata": {
    "collapsed": true
   },
   "outputs": [],
   "source": [
    "acimaAnalitica = simplify(acimaAnalitica.doit())"
   ]
  },
  {
   "cell_type": "code",
   "execution_count": 26,
   "metadata": {},
   "outputs": [
    {
     "data": {
      "text/latex": [
       "$$\\left[\\begin{matrix}\\frac{E}{9 dx dy dz \\left(v + 1\\right) \\left(2 v^{2} + v - 1\\right)} \\left(- 2 dx^{2} dy^{2} \\left(2 v^{2} + v - 1\\right) + dz^{2} \\left(v + 1\\right) \\left(2 dx^{2} v - dx^{2} + 2 dy^{2} v - 2 dy^{2}\\right)\\right) & 0 & 0\\\\0 & \\frac{E}{9 dx dy dz \\left(v + 1\\right) \\left(2 v^{2} + v - 1\\right)} \\left(- 2 dx^{2} dy^{2} \\left(2 v^{2} + v - 1\\right) + dz^{2} \\left(v + 1\\right) \\left(2 dx^{2} v - 2 dx^{2} + 2 dy^{2} v - dy^{2}\\right)\\right) & 0\\\\0 & 0 & \\frac{E \\left(- 4 dx^{2} dy^{2} \\left(v - 1\\right) \\left(v + 1\\right) + dz^{2} \\left(dx^{2} + dy^{2}\\right) \\left(2 v^{2} + v - 1\\right)\\right)}{9 dx dy dz \\left(v + 1\\right) \\left(2 v^{2} + v - 1\\right)}\\end{matrix}\\right]$$"
      ],
      "text/plain": [
       "⎡  ⎛      2   2 ⎛   2        ⎞     2         ⎛    2       2       2         2⎞\n",
       "⎢E⋅⎝- 2⋅dx ⋅dy ⋅⎝2⋅v  + v - 1⎠ + dz ⋅(v + 1)⋅⎝2⋅dx ⋅v - dx  + 2⋅dy ⋅v - 2⋅dy ⎠\n",
       "⎢─────────────────────────────────────────────────────────────────────────────\n",
       "⎢                                         ⎛   2        ⎞                      \n",
       "⎢                      9⋅dx⋅dy⋅dz⋅(v + 1)⋅⎝2⋅v  + v - 1⎠                      \n",
       "⎢                                                                             \n",
       "⎢                                                                             \n",
       "⎢                                                                             \n",
       "⎢                                      0                                      \n",
       "⎢                                                                             \n",
       "⎢                                                                             \n",
       "⎢                                                                             \n",
       "⎢                                                                             \n",
       "⎢                                                                             \n",
       "⎢                                      0                                      \n",
       "⎢                                                                             \n",
       "⎣                                                                             \n",
       "\n",
       "⎞                                                                             \n",
       "⎠                                                                             \n",
       "─                                        0                                    \n",
       "                                                                              \n",
       "                                                                              \n",
       "                                                                              \n",
       "     ⎛      2   2 ⎛   2        ⎞     2         ⎛    2         2       2       \n",
       "   E⋅⎝- 2⋅dx ⋅dy ⋅⎝2⋅v  + v - 1⎠ + dz ⋅(v + 1)⋅⎝2⋅dx ⋅v - 2⋅dx  + 2⋅dy ⋅v - dy\n",
       "   ───────────────────────────────────────────────────────────────────────────\n",
       "                                            ⎛   2        ⎞                    \n",
       "                         9⋅dx⋅dy⋅dz⋅(v + 1)⋅⎝2⋅v  + v - 1⎠                    \n",
       "                                                                              \n",
       "                                                                              \n",
       "                                                                              \n",
       "                                         0                                    \n",
       "                                                                              \n",
       "                                                                              \n",
       "\n",
       "                                                                     ⎤\n",
       "                                                                     ⎥\n",
       "                                    0                                ⎥\n",
       "                                                                     ⎥\n",
       "                                                                     ⎥\n",
       "                                                                     ⎥\n",
       "2⎞⎞                                                                  ⎥\n",
       " ⎠⎠                                                                  ⎥\n",
       "───                                 0                                ⎥\n",
       "                                                                     ⎥\n",
       "                                                                     ⎥\n",
       "                                                                     ⎥\n",
       "       ⎛      2   2                     2 ⎛  2     2⎞ ⎛   2        ⎞⎞⎥\n",
       "     E⋅⎝- 4⋅dx ⋅dy ⋅(v - 1)⋅(v + 1) + dz ⋅⎝dx  + dy ⎠⋅⎝2⋅v  + v - 1⎠⎠⎥\n",
       "     ────────────────────────────────────────────────────────────────⎥\n",
       "                                       ⎛   2        ⎞                ⎥\n",
       "                    9⋅dx⋅dy⋅dz⋅(v + 1)⋅⎝2⋅v  + v - 1⎠                ⎦"
      ]
     },
     "execution_count": 26,
     "metadata": {},
     "output_type": "execute_result"
    }
   ],
   "source": [
    "acimaAnalitica"
   ]
  },
  {
   "cell_type": "code",
   "execution_count": 27,
   "metadata": {
    "collapsed": true
   },
   "outputs": [],
   "source": [
    "sulAnalitica = CalcConnectionAnalitic(N5, N1) + CalcConnectionAnalitic(N6, N2) + CalcConnectionAnalitic(N7, N3) + CalcConnectionAnalitic(N8, N4)\n",
    "sulAnalitica = simplify(sulAnalitica.doit())"
   ]
  },
  {
   "cell_type": "code",
   "execution_count": 28,
   "metadata": {},
   "outputs": [
    {
     "data": {
      "text/latex": [
       "$$\\left[\\begin{matrix}\\frac{E}{9 dx dy dz \\left(2 v^{2} + v - 1\\right)} \\left(2 dx^{2} dy^{2} v - dx^{2} dy^{2} - 4 dx^{2} dz^{2} v + 2 dx^{2} dz^{2} + 2 dy^{2} dz^{2} v - 2 dy^{2} dz^{2}\\right) & 0 & 0\\\\0 & \\frac{E}{9 dx dy dz \\left(2 v^{2} + v - 1\\right)} \\left(2 dx^{2} dy^{2} v - dx^{2} dy^{2} - 4 dx^{2} dz^{2} v + 4 dx^{2} dz^{2} + 2 dy^{2} dz^{2} v - dy^{2} dz^{2}\\right) & 0\\\\0 & 0 & \\frac{E}{9 dx dy dz \\left(2 v^{2} + v - 1\\right)} \\left(2 dx^{2} dy^{2} v - 2 dx^{2} dy^{2} - 4 dx^{2} dz^{2} v + 2 dx^{2} dz^{2} + 2 dy^{2} dz^{2} v - dy^{2} dz^{2}\\right)\\end{matrix}\\right]$$"
      ],
      "text/plain": [
       "⎡  ⎛    2   2       2   2       2   2         2   2       2   2         2   2⎞\n",
       "⎢E⋅⎝2⋅dx ⋅dy ⋅v - dx ⋅dy  - 4⋅dx ⋅dz ⋅v + 2⋅dx ⋅dz  + 2⋅dy ⋅dz ⋅v - 2⋅dy ⋅dz ⎠\n",
       "⎢─────────────────────────────────────────────────────────────────────────────\n",
       "⎢                                     ⎛   2        ⎞                          \n",
       "⎢                          9⋅dx⋅dy⋅dz⋅⎝2⋅v  + v - 1⎠                          \n",
       "⎢                                                                             \n",
       "⎢                                                                             \n",
       "⎢                                                                             \n",
       "⎢                                      0                                      \n",
       "⎢                                                                             \n",
       "⎢                                                                             \n",
       "⎢                                                                             \n",
       "⎢                                                                             \n",
       "⎢                                                                             \n",
       "⎢                                      0                                      \n",
       "⎢                                                                             \n",
       "⎣                                                                             \n",
       "\n",
       "                                                                              \n",
       "                                                                              \n",
       "                                       0                                      \n",
       "                                                                              \n",
       "                                                                              \n",
       "                                                                              \n",
       "    ⎛    2   2       2   2       2   2         2   2       2   2       2   2⎞ \n",
       "  E⋅⎝2⋅dx ⋅dy ⋅v - dx ⋅dy  - 4⋅dx ⋅dz ⋅v + 4⋅dx ⋅dz  + 2⋅dy ⋅dz ⋅v - dy ⋅dz ⎠ \n",
       "  ─────────────────────────────────────────────────────────────────────────── \n",
       "                                      ⎛   2        ⎞                          \n",
       "                           9⋅dx⋅dy⋅dz⋅⎝2⋅v  + v - 1⎠                          \n",
       "                                                                              \n",
       "                                                                              \n",
       "                                                                              \n",
       "                                       0                                      \n",
       "                                                                              \n",
       "                                                                              \n",
       "\n",
       "                                                                              \n",
       "                                                                              \n",
       "                                       0                                      \n",
       "                                                                              \n",
       "                                                                              \n",
       "                                                                              \n",
       "                                                                              \n",
       "                                                                              \n",
       "                                       0                                      \n",
       "                                                                              \n",
       "                                                                              \n",
       "                                                                              \n",
       "   ⎛    2   2         2   2       2   2         2   2       2   2       2   2⎞\n",
       " E⋅⎝2⋅dx ⋅dy ⋅v - 2⋅dx ⋅dy  - 4⋅dx ⋅dz ⋅v + 2⋅dx ⋅dz  + 2⋅dy ⋅dz ⋅v - dy ⋅dz ⎠\n",
       " ─────────────────────────────────────────────────────────────────────────────\n",
       "                                      ⎛   2        ⎞                          \n",
       "                           9⋅dx⋅dy⋅dz⋅⎝2⋅v  + v - 1⎠                          \n",
       "\n",
       "⎤\n",
       "⎥\n",
       "⎥\n",
       "⎥\n",
       "⎥\n",
       "⎥\n",
       "⎥\n",
       "⎥\n",
       "⎥\n",
       "⎥\n",
       "⎥\n",
       "⎥\n",
       "⎥\n",
       "⎥\n",
       "⎥\n",
       "⎥\n",
       "⎦"
      ]
     },
     "execution_count": 28,
     "metadata": {},
     "output_type": "execute_result"
    }
   ],
   "source": [
    "sulAnalitica"
   ]
  },
  {
   "cell_type": "code",
   "execution_count": 29,
   "metadata": {},
   "outputs": [
    {
     "data": {
      "text/latex": [
       "$$\\frac{dz^{2} \\left(v + 1\\right) \\left(4 v - 3\\right) - 4 v^{2} - 2 v + 2}{\\left(v + 1\\right) \\left(- 2 dz^{2} v + 2 v - 1\\right)}$$"
      ],
      "text/plain": [
       "  2                        2          \n",
       "dz ⋅(v + 1)⋅(4⋅v - 3) - 4⋅v  - 2⋅v + 2\n",
       "──────────────────────────────────────\n",
       "            ⎛      2            ⎞     \n",
       "    (v + 1)⋅⎝- 2⋅dz ⋅v + 2⋅v - 1⎠     "
      ]
     },
     "execution_count": 29,
     "metadata": {},
     "output_type": "execute_result"
    }
   ],
   "source": [
    "a = acimaAnalitica[0]/sulAnalitica[0]\n",
    "a = a.subs(dx, 1).subs(dy, 1)\n",
    "a\n"
   ]
  },
  {
   "cell_type": "code",
   "execution_count": 30,
   "metadata": {},
   "outputs": [
    {
     "data": {
      "text/latex": [
       "$$-2$$"
      ],
      "text/plain": [
       "-2"
      ]
     },
     "execution_count": 30,
     "metadata": {},
     "output_type": "execute_result"
    }
   ],
   "source": [
    "limit(a, dz, 0)"
   ]
  }
 ],
 "metadata": {
  "anaconda-cloud": {},
  "kernelspec": {
   "display_name": "Python 2",
   "language": "python",
   "name": "python2"
  },
  "language_info": {
   "codemirror_mode": {
    "name": "ipython",
    "version": 2
   },
   "file_extension": ".py",
   "mimetype": "text/x-python",
   "name": "python",
   "nbconvert_exporter": "python",
   "pygments_lexer": "ipython2",
   "version": "2.7.13"
  }
 },
 "nbformat": 4,
 "nbformat_minor": 2
}
